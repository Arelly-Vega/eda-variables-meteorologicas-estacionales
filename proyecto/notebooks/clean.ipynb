{
 "cells": [
  {
   "cell_type": "markdown",
   "metadata": {},
   "source": [
    "## Importando liberías"
   ]
  },
  {
   "cell_type": "code",
   "execution_count": 2,
   "metadata": {},
   "outputs": [],
   "source": [
    "import pandas as pd"
   ]
  },
  {
   "cell_type": "markdown",
   "metadata": {},
   "source": [
    "## Importando datos"
   ]
  },
  {
   "cell_type": "code",
   "execution_count": 3,
   "metadata": {},
   "outputs": [],
   "source": [
    "dataset=pd.read_csv('../data/raw/dataset.csv')"
   ]
  },
  {
   "cell_type": "markdown",
   "metadata": {},
   "source": [
    "### Vista general"
   ]
  },
  {
   "cell_type": "code",
   "execution_count": 4,
   "metadata": {},
   "outputs": [
    {
     "name": "stdout",
     "output_type": "stream",
     "text": [
      "ID                int64\n",
      "ESTACION         object\n",
      "FECHA             int64\n",
      "HORA              int64\n",
      "LONGITUD        float64\n",
      "LATITUD         float64\n",
      "ALTITUD         float64\n",
      "TEMP            float64\n",
      "HR              float64\n",
      "PP              float64\n",
      "RED              object\n",
      "DEPARTAMENTO     object\n",
      "PROVINCIA        object\n",
      "DISTRITO         object\n",
      "UBIGEO          float64\n",
      "FECHA_CORTE       int64\n",
      "dtype: object\n"
     ]
    }
   ],
   "source": [
    "# Tipos de datos\n",
    "print(dataset.dtypes)"
   ]
  },
  {
   "cell_type": "code",
   "execution_count": 5,
   "metadata": {},
   "outputs": [
    {
     "name": "stdout",
     "output_type": "stream",
     "text": [
      "Index(['ID', 'ESTACION', 'FECHA', 'HORA', 'LONGITUD', 'LATITUD', 'ALTITUD',\n",
      "       'TEMP', 'HR', 'PP', 'RED', 'DEPARTAMENTO', 'PROVINCIA', 'DISTRITO',\n",
      "       'UBIGEO', 'FECHA_CORTE'],\n",
      "      dtype='object')\n",
      "(416273, 16)\n"
     ]
    }
   ],
   "source": [
    "# Nombre de las columnas\n",
    "print(dataset.columns)\n",
    "\n",
    "# Número de filas y columnas\n",
    "print(dataset.shape)"
   ]
  },
  {
   "cell_type": "code",
   "execution_count": 6,
   "metadata": {},
   "outputs": [
    {
     "name": "stdout",
     "output_type": "stream",
     "text": [
      "ID                  0\n",
      "ESTACION            0\n",
      "FECHA               0\n",
      "HORA                0\n",
      "LONGITUD            0\n",
      "LATITUD             0\n",
      "ALTITUD             0\n",
      "TEMP            13343\n",
      "HR              14121\n",
      "PP              14440\n",
      "RED                 0\n",
      "DEPARTAMENTO        0\n",
      "PROVINCIA           0\n",
      "DISTRITO            0\n",
      "UBIGEO              0\n",
      "FECHA_CORTE         0\n",
      "dtype: int64\n"
     ]
    }
   ],
   "source": [
    "# Valores nulos por columna\n",
    "print(dataset.isnull().sum())"
   ]
  },
  {
   "cell_type": "markdown",
   "metadata": {},
   "source": [
    "### Vista por columna"
   ]
  },
  {
   "cell_type": "code",
   "execution_count": 7,
   "metadata": {},
   "outputs": [
    {
     "name": "stdout",
     "output_type": "stream",
     "text": [
      "ESTACION\n",
      "CANDARAVE            83256\n",
      "SAN_JOSE_DE_UZUNA    83256\n",
      "MATUCANA             83255\n",
      "IMATA                83253\n",
      "CARANIA              83253\n",
      "Name: count, dtype: int64\n",
      "DEPARTAMENTO\n",
      "AREQUIPA    166509\n",
      "LIMA        166508\n",
      "TACNA        83256\n",
      "Name: count, dtype: int64\n",
      "DISTRITO\n",
      "CANDARAVE               83256\n",
      "POLOBAYA                83256\n",
      "MATUCANA                83255\n",
      "SAN_ANTONIO_DE_CHUCA    83253\n",
      "CARANIA                 83253\n",
      "Name: count, dtype: int64\n"
     ]
    }
   ],
   "source": [
    "print(dataset['ESTACION'].value_counts())\n",
    "print(dataset['DEPARTAMENTO'].value_counts())\n",
    "print(dataset['DISTRITO'].value_counts())"
   ]
  },
  {
   "cell_type": "code",
   "execution_count": 8,
   "metadata": {},
   "outputs": [
    {
     "name": "stdout",
     "output_type": "stream",
     "text": [
      "UBIGEO\n",
      "230201.0    83256\n",
      "40114.0     83256\n",
      "150701.0    83255\n",
      "40514.0     83253\n",
      "151007.0    83253\n",
      "Name: count, dtype: int64\n"
     ]
    }
   ],
   "source": [
    "print(dataset['UBIGEO'].value_counts())"
   ]
  },
  {
   "cell_type": "code",
   "execution_count": 9,
   "metadata": {},
   "outputs": [
    {
     "data": {
      "text/plain": [
       "RED\n",
       "RBON    249765\n",
       "GBON    166508\n",
       "Name: count, dtype: int64"
      ]
     },
     "execution_count": 9,
     "metadata": {},
     "output_type": "execute_result"
    }
   ],
   "source": [
    "dataset['RED'].value_counts()"
   ]
  },
  {
   "cell_type": "code",
   "execution_count": 10,
   "metadata": {},
   "outputs": [
    {
     "data": {
      "text/plain": [
       "ALTITUD\n",
       "3410.0    83256\n",
       "3269.0    83256\n",
       "2421.0    83255\n",
       "4475.0    83253\n",
       "3840.0    83253\n",
       "Name: count, dtype: int64"
      ]
     },
     "execution_count": 10,
     "metadata": {},
     "output_type": "execute_result"
    }
   ],
   "source": [
    "dataset['ALTITUD'].value_counts()"
   ]
  },
  {
   "cell_type": "markdown",
   "metadata": {},
   "source": [
    "## Limpieza de datos"
   ]
  },
  {
   "cell_type": "markdown",
   "metadata": {},
   "source": [
    "### Filtrando valores"
   ]
  },
  {
   "cell_type": "code",
   "execution_count": 11,
   "metadata": {},
   "outputs": [
    {
     "name": "stdout",
     "output_type": "stream",
     "text": [
      "(401003, 16)\n"
     ]
    }
   ],
   "source": [
    "#Eliminar las filas que tengan algún valor nulo\n",
    "dataset=dataset.dropna()\n",
    "print(dataset.shape)"
   ]
  },
  {
   "cell_type": "markdown",
   "metadata": {},
   "source": [
    "#### *Eliminando columna que no aporta*"
   ]
  },
  {
   "cell_type": "code",
   "execution_count": 12,
   "metadata": {},
   "outputs": [],
   "source": [
    "#Eliminar columna FECHA_CORTE\n",
    "dataset=dataset.drop(columns=['FECHA_CORTE'])"
   ]
  },
  {
   "cell_type": "markdown",
   "metadata": {},
   "source": [
    "### Conversión de tipos de datos"
   ]
  },
  {
   "cell_type": "code",
   "execution_count": 13,
   "metadata": {},
   "outputs": [],
   "source": [
    "#convertir UBIGEO a int\n",
    "dataset['UBIGEO']=dataset['UBIGEO'].astype(int)"
   ]
  },
  {
   "cell_type": "code",
   "execution_count": 14,
   "metadata": {},
   "outputs": [
    {
     "name": "stdout",
     "output_type": "stream",
     "text": [
      "datetime64[ns]\n",
      "FECHA\n",
      "2024-06-30    120\n",
      "2024-06-29    120\n",
      "2024-06-28    120\n",
      "2024-06-27    120\n",
      "2024-06-26    118\n",
      "             ... \n",
      "2015-01-05    116\n",
      "2015-01-04    119\n",
      "2015-01-03    120\n",
      "2015-01-02    120\n",
      "2015-01-01    120\n",
      "Name: count, Length: 3468, dtype: int64\n"
     ]
    }
   ],
   "source": [
    "#Convertir los valores de la columna FECHA a tipo datetime\n",
    "dataset['FECHA']=pd.to_datetime(dataset['FECHA'], format='%Y%m%d')\n",
    "print(dataset['FECHA'].dtypes)\n",
    "\n",
    "#muestra todas las fechas distintas en una tabla de mayor a menor\n",
    "print(dataset['FECHA'].value_counts().sort_index(ascending=False))\n"
   ]
  },
  {
   "cell_type": "code",
   "execution_count": 15,
   "metadata": {},
   "outputs": [
    {
     "name": "stdout",
     "output_type": "stream",
     "text": [
      "0           \n",
      "1          1\n",
      "2          2\n",
      "3          3\n",
      "4          4\n",
      "          ..\n",
      "416268    19\n",
      "416269    20\n",
      "416270    21\n",
      "416271    22\n",
      "416272    23\n",
      "Name: HORA, Length: 401003, dtype: object\n"
     ]
    }
   ],
   "source": [
    "#convertir la columna HORA a tipo string\n",
    "dataset['HORA']=dataset['HORA'].astype(str)\n",
    "\n",
    "#Eliminar los últimos 4 dígitos de los datos de la columna HORA\n",
    "dataset['HORA']=dataset['HORA'].str[:-4]\n",
    "print(dataset['HORA'])"
   ]
  },
  {
   "cell_type": "code",
   "execution_count": 16,
   "metadata": {},
   "outputs": [
    {
     "name": "stdout",
     "output_type": "stream",
     "text": [
      "0          0\n",
      "1          1\n",
      "2          2\n",
      "3          3\n",
      "4          4\n",
      "          ..\n",
      "416268    19\n",
      "416269    20\n",
      "416270    21\n",
      "416271    22\n",
      "416272    23\n",
      "Name: HORA, Length: 401003, dtype: int64\n"
     ]
    }
   ],
   "source": [
    "dataset['HORA']=dataset['HORA'].replace('', '0')\n",
    "\n",
    "#convertir la columna HORA que es string a tipo int\n",
    "dataset['HORA']=dataset['HORA'].astype(int)\n",
    "print(dataset['HORA'])"
   ]
  },
  {
   "cell_type": "code",
   "execution_count": 17,
   "metadata": {},
   "outputs": [
    {
     "name": "stdout",
     "output_type": "stream",
     "text": [
      "TEMP\n",
      " 13.3    2774\n",
      " 13.1    2770\n",
      " 12.9    2770\n",
      " 5.5     2743\n",
      " 5.8     2714\n",
      "         ... \n",
      "-16.7       1\n",
      " 24.9       1\n",
      " 26.3       1\n",
      " 25.5       1\n",
      " 25.2       1\n",
      "Name: count, Length: 414, dtype: int64\n",
      "HR\n",
      "100.0    57292\n",
      "99.0      5929\n",
      "46.0      4902\n",
      "48.0      4884\n",
      "49.0      4825\n",
      "         ...  \n",
      "9.0       1055\n",
      "8.0        712\n",
      "7.0        458\n",
      "6.0        152\n",
      "5.0         41\n",
      "Name: count, Length: 96, dtype: int64\n"
     ]
    }
   ],
   "source": [
    "print(dataset['TEMP'].value_counts())\n",
    "print(dataset['HR'].value_counts())"
   ]
  },
  {
   "cell_type": "code",
   "execution_count": 18,
   "metadata": {},
   "outputs": [
    {
     "name": "stdout",
     "output_type": "stream",
     "text": [
      "PP\n",
      "0.0     378067\n",
      "0.1       7937\n",
      "0.2       2642\n",
      "0.3       1786\n",
      "0.4       1313\n",
      "         ...  \n",
      "11.5         1\n",
      "24.0         1\n",
      "8.4          1\n",
      "12.2         1\n",
      "21.8         1\n",
      "Name: count, Length: 150, dtype: int64\n"
     ]
    }
   ],
   "source": [
    "print(dataset['PP'].value_counts())"
   ]
  },
  {
   "cell_type": "markdown",
   "metadata": {},
   "source": [
    "### Creación de nuevas columnas"
   ]
  },
  {
   "cell_type": "code",
   "execution_count": 19,
   "metadata": {},
   "outputs": [
    {
     "name": "stdout",
     "output_type": "stream",
     "text": [
      "UBICACION\n",
      "(AREQUIPA, AREQUIPA, POLOBAYA, 40114)                82160\n",
      "(LIMA, YAUYOS, CARANIA, 151007)                      81548\n",
      "(TACNA, CANDARAVE, CANDARAVE, 230201)                81021\n",
      "(LIMA, HUAROCHIRI, MATUCANA, 150701)                 78195\n",
      "(AREQUIPA, CAYLLOMA, SAN_ANTONIO_DE_CHUCA, 40514)    78079\n",
      "Name: count, dtype: int64\n"
     ]
    }
   ],
   "source": [
    "#crear tupla de departamento, distrito, provincia y ubigeo\n",
    "dataset['UBICACION']=list(zip(dataset['DEPARTAMENTO'], dataset['PROVINCIA'], dataset['DISTRITO'], dataset['UBIGEO']))\n",
    "print(dataset['UBICACION'].value_counts())\n"
   ]
  },
  {
   "cell_type": "code",
   "execution_count": 20,
   "metadata": {},
   "outputs": [
    {
     "name": "stdout",
     "output_type": "stream",
     "text": [
      "AÑO\n",
      "2020    43747\n",
      "2021    43655\n",
      "2018    43575\n",
      "2022    43560\n",
      "2023    42948\n",
      "2017    42641\n",
      "2019    41158\n",
      "2016    39554\n",
      "2015    39320\n",
      "2024    20845\n",
      "Name: count, dtype: int64\n",
      "MES\n",
      "1     36390\n",
      "3     35667\n",
      "5     35505\n",
      "6     34950\n",
      "4     33619\n",
      "12    33032\n",
      "10    32903\n",
      "2     32666\n",
      "7     32321\n",
      "8     31620\n",
      "9     31507\n",
      "11    30823\n",
      "Name: count, dtype: int64\n"
     ]
    }
   ],
   "source": [
    "#Crear columna AÑO y MES de FECHA\n",
    "dataset['AÑO']=dataset['FECHA'].dt.year\n",
    "print(dataset['AÑO'].value_counts())\n",
    "\n",
    "dataset['MES']=dataset['FECHA'].dt.month\n",
    "print(dataset['MES'].value_counts())"
   ]
  },
  {
   "cell_type": "code",
   "execution_count": 21,
   "metadata": {},
   "outputs": [
    {
     "name": "stdout",
     "output_type": "stream",
     "text": [
      "RED_ESTACION\n",
      "(RBON, SAN_JOSE_DE_UZUNA)    82160\n",
      "(GBON, CARANIA)              81548\n",
      "(RBON, CANDARAVE)            81021\n",
      "(GBON, MATUCANA)             78195\n",
      "(RBON, IMATA)                78079\n",
      "Name: count, dtype: int64\n"
     ]
    }
   ],
   "source": [
    "#crear tupla red y estacion\n",
    "dataset['RED_ESTACION']=list(zip(dataset['RED'], dataset['ESTACION']))\n",
    "print(dataset['RED_ESTACION'].value_counts())"
   ]
  },
  {
   "cell_type": "code",
   "execution_count": 22,
   "metadata": {},
   "outputs": [
    {
     "data": {
      "text/plain": [
       "Index(['ID', 'ESTACION', 'FECHA', 'HORA', 'LONGITUD', 'LATITUD', 'ALTITUD',\n",
       "       'TEMP', 'HR', 'PP', 'RED', 'DEPARTAMENTO', 'PROVINCIA', 'DISTRITO',\n",
       "       'UBIGEO', 'UBICACION', 'AÑO', 'MES', 'RED_ESTACION', 'COORDENADA'],\n",
       "      dtype='object')"
      ]
     },
     "execution_count": 22,
     "metadata": {},
     "output_type": "execute_result"
    }
   ],
   "source": [
    "#crear tupla latitud, longitud y altitud\n",
    "dataset['COORDENADA']=list(zip(dataset['LATITUD'], dataset['LONGITUD'], dataset['ALTITUD']))\n",
    "\n",
    "dataset.columns"
   ]
  },
  {
   "cell_type": "code",
   "execution_count": 23,
   "metadata": {},
   "outputs": [],
   "source": [
    "#guardar en dataclean el dataset limpio\n",
    "#dataset.to_csv('../data/raw/dataset_clean.csv', index=False)"
   ]
  },
  {
   "cell_type": "markdown",
   "metadata": {},
   "source": [
    "Pensar incluir data de vegetación para calcular la evapotranspiración"
   ]
  },
  {
   "cell_type": "code",
   "execution_count": 33,
   "metadata": {},
   "outputs": [
    {
     "name": "stdout",
     "output_type": "stream",
     "text": [
      "PP\n",
      "0.0    107\n",
      "0.1      8\n",
      "0.2      1\n",
      "0.7      1\n",
      "3.5      1\n",
      "2.3      1\n",
      "0.5      1\n",
      "Name: count, dtype: int64\n"
     ]
    }
   ],
   "source": [
    "# imprime todos los valores de PP del primer día\n",
    "print(dataset[dataset['FECHA']=='2019-01-01']['PP'].value_counts())"
   ]
  },
  {
   "cell_type": "code",
   "execution_count": 34,
   "metadata": {},
   "outputs": [
    {
     "name": "stdout",
     "output_type": "stream",
     "text": [
      "PP\n",
      "0.0    119\n",
      "0.1      1\n",
      "Name: count, dtype: int64\n"
     ]
    }
   ],
   "source": [
    "print(dataset[dataset['FECHA']=='2015-01-01']['PP'].value_counts())"
   ]
  }
 ],
 "metadata": {
  "kernelspec": {
   "display_name": "VMEAPERU",
   "language": "python",
   "name": "python3"
  },
  "language_info": {
   "codemirror_mode": {
    "name": "ipython",
    "version": 3
   },
   "file_extension": ".py",
   "mimetype": "text/x-python",
   "name": "python",
   "nbconvert_exporter": "python",
   "pygments_lexer": "ipython3",
   "version": "3.12.7"
  }
 },
 "nbformat": 4,
 "nbformat_minor": 2
}
