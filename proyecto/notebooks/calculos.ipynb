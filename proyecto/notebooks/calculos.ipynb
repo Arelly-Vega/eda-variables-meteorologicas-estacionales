{
 "cells": [
  {
   "cell_type": "markdown",
   "metadata": {},
   "source": [
    "### Importando librerías"
   ]
  },
  {
   "cell_type": "code",
   "execution_count": 70,
   "metadata": {},
   "outputs": [],
   "source": [
    "import pandas as pd\n",
    "import numpy as np"
   ]
  },
  {
   "cell_type": "markdown",
   "metadata": {},
   "source": [
    "### Importando datos"
   ]
  },
  {
   "cell_type": "code",
   "execution_count": 71,
   "metadata": {},
   "outputs": [],
   "source": [
    "dataset_clean=pd.read_csv('../data/raw/dataset_clean.csv')"
   ]
  },
  {
   "cell_type": "code",
   "execution_count": 72,
   "metadata": {},
   "outputs": [
    {
     "data": {
      "text/html": [
       "<div>\n",
       "<style scoped>\n",
       "    .dataframe tbody tr th:only-of-type {\n",
       "        vertical-align: middle;\n",
       "    }\n",
       "\n",
       "    .dataframe tbody tr th {\n",
       "        vertical-align: top;\n",
       "    }\n",
       "\n",
       "    .dataframe thead th {\n",
       "        text-align: right;\n",
       "    }\n",
       "</style>\n",
       "<table border=\"1\" class=\"dataframe\">\n",
       "  <thead>\n",
       "    <tr style=\"text-align: right;\">\n",
       "      <th></th>\n",
       "      <th>ID</th>\n",
       "      <th>ESTACION</th>\n",
       "      <th>FECHA</th>\n",
       "      <th>HORA</th>\n",
       "      <th>LONGITUD</th>\n",
       "      <th>LATITUD</th>\n",
       "      <th>ALTITUD</th>\n",
       "      <th>TEMP</th>\n",
       "      <th>HR</th>\n",
       "      <th>PP</th>\n",
       "      <th>RED</th>\n",
       "      <th>DEPARTAMENTO</th>\n",
       "      <th>PROVINCIA</th>\n",
       "      <th>DISTRITO</th>\n",
       "      <th>UBIGEO</th>\n",
       "      <th>UBICACION</th>\n",
       "      <th>AÑO</th>\n",
       "      <th>MES</th>\n",
       "      <th>RED_ESTACION</th>\n",
       "      <th>COORDENADA</th>\n",
       "    </tr>\n",
       "  </thead>\n",
       "  <tbody>\n",
       "    <tr>\n",
       "      <th>0</th>\n",
       "      <td>1</td>\n",
       "      <td>CANDARAVE</td>\n",
       "      <td>2015-01-01</td>\n",
       "      <td>0</td>\n",
       "      <td>-70.2541</td>\n",
       "      <td>-17.268</td>\n",
       "      <td>3410.0</td>\n",
       "      <td>6.6</td>\n",
       "      <td>73.0</td>\n",
       "      <td>0.0</td>\n",
       "      <td>RBON</td>\n",
       "      <td>TACNA</td>\n",
       "      <td>CANDARAVE</td>\n",
       "      <td>CANDARAVE</td>\n",
       "      <td>230201</td>\n",
       "      <td>('TACNA', 'CANDARAVE', 'CANDARAVE', 230201)</td>\n",
       "      <td>2015</td>\n",
       "      <td>1</td>\n",
       "      <td>('RBON', 'CANDARAVE')</td>\n",
       "      <td>(-17.268, -70.2541, 3410.0)</td>\n",
       "    </tr>\n",
       "    <tr>\n",
       "      <th>1</th>\n",
       "      <td>2</td>\n",
       "      <td>CANDARAVE</td>\n",
       "      <td>2015-01-01</td>\n",
       "      <td>1</td>\n",
       "      <td>-70.2541</td>\n",
       "      <td>-17.268</td>\n",
       "      <td>3410.0</td>\n",
       "      <td>6.1</td>\n",
       "      <td>66.0</td>\n",
       "      <td>0.0</td>\n",
       "      <td>RBON</td>\n",
       "      <td>TACNA</td>\n",
       "      <td>CANDARAVE</td>\n",
       "      <td>CANDARAVE</td>\n",
       "      <td>230201</td>\n",
       "      <td>('TACNA', 'CANDARAVE', 'CANDARAVE', 230201)</td>\n",
       "      <td>2015</td>\n",
       "      <td>1</td>\n",
       "      <td>('RBON', 'CANDARAVE')</td>\n",
       "      <td>(-17.268, -70.2541, 3410.0)</td>\n",
       "    </tr>\n",
       "    <tr>\n",
       "      <th>2</th>\n",
       "      <td>3</td>\n",
       "      <td>CANDARAVE</td>\n",
       "      <td>2015-01-01</td>\n",
       "      <td>2</td>\n",
       "      <td>-70.2541</td>\n",
       "      <td>-17.268</td>\n",
       "      <td>3410.0</td>\n",
       "      <td>5.2</td>\n",
       "      <td>63.0</td>\n",
       "      <td>0.0</td>\n",
       "      <td>RBON</td>\n",
       "      <td>TACNA</td>\n",
       "      <td>CANDARAVE</td>\n",
       "      <td>CANDARAVE</td>\n",
       "      <td>230201</td>\n",
       "      <td>('TACNA', 'CANDARAVE', 'CANDARAVE', 230201)</td>\n",
       "      <td>2015</td>\n",
       "      <td>1</td>\n",
       "      <td>('RBON', 'CANDARAVE')</td>\n",
       "      <td>(-17.268, -70.2541, 3410.0)</td>\n",
       "    </tr>\n",
       "    <tr>\n",
       "      <th>3</th>\n",
       "      <td>4</td>\n",
       "      <td>CANDARAVE</td>\n",
       "      <td>2015-01-01</td>\n",
       "      <td>3</td>\n",
       "      <td>-70.2541</td>\n",
       "      <td>-17.268</td>\n",
       "      <td>3410.0</td>\n",
       "      <td>5.1</td>\n",
       "      <td>49.0</td>\n",
       "      <td>0.0</td>\n",
       "      <td>RBON</td>\n",
       "      <td>TACNA</td>\n",
       "      <td>CANDARAVE</td>\n",
       "      <td>CANDARAVE</td>\n",
       "      <td>230201</td>\n",
       "      <td>('TACNA', 'CANDARAVE', 'CANDARAVE', 230201)</td>\n",
       "      <td>2015</td>\n",
       "      <td>1</td>\n",
       "      <td>('RBON', 'CANDARAVE')</td>\n",
       "      <td>(-17.268, -70.2541, 3410.0)</td>\n",
       "    </tr>\n",
       "    <tr>\n",
       "      <th>4</th>\n",
       "      <td>5</td>\n",
       "      <td>CANDARAVE</td>\n",
       "      <td>2015-01-01</td>\n",
       "      <td>4</td>\n",
       "      <td>-70.2541</td>\n",
       "      <td>-17.268</td>\n",
       "      <td>3410.0</td>\n",
       "      <td>3.8</td>\n",
       "      <td>51.0</td>\n",
       "      <td>0.0</td>\n",
       "      <td>RBON</td>\n",
       "      <td>TACNA</td>\n",
       "      <td>CANDARAVE</td>\n",
       "      <td>CANDARAVE</td>\n",
       "      <td>230201</td>\n",
       "      <td>('TACNA', 'CANDARAVE', 'CANDARAVE', 230201)</td>\n",
       "      <td>2015</td>\n",
       "      <td>1</td>\n",
       "      <td>('RBON', 'CANDARAVE')</td>\n",
       "      <td>(-17.268, -70.2541, 3410.0)</td>\n",
       "    </tr>\n",
       "  </tbody>\n",
       "</table>\n",
       "</div>"
      ],
      "text/plain": [
       "   ID   ESTACION       FECHA  HORA  LONGITUD  LATITUD  ALTITUD  TEMP    HR  \\\n",
       "0   1  CANDARAVE  2015-01-01     0  -70.2541  -17.268   3410.0   6.6  73.0   \n",
       "1   2  CANDARAVE  2015-01-01     1  -70.2541  -17.268   3410.0   6.1  66.0   \n",
       "2   3  CANDARAVE  2015-01-01     2  -70.2541  -17.268   3410.0   5.2  63.0   \n",
       "3   4  CANDARAVE  2015-01-01     3  -70.2541  -17.268   3410.0   5.1  49.0   \n",
       "4   5  CANDARAVE  2015-01-01     4  -70.2541  -17.268   3410.0   3.8  51.0   \n",
       "\n",
       "    PP   RED DEPARTAMENTO  PROVINCIA   DISTRITO  UBIGEO  \\\n",
       "0  0.0  RBON        TACNA  CANDARAVE  CANDARAVE  230201   \n",
       "1  0.0  RBON        TACNA  CANDARAVE  CANDARAVE  230201   \n",
       "2  0.0  RBON        TACNA  CANDARAVE  CANDARAVE  230201   \n",
       "3  0.0  RBON        TACNA  CANDARAVE  CANDARAVE  230201   \n",
       "4  0.0  RBON        TACNA  CANDARAVE  CANDARAVE  230201   \n",
       "\n",
       "                                     UBICACION   AÑO  MES  \\\n",
       "0  ('TACNA', 'CANDARAVE', 'CANDARAVE', 230201)  2015    1   \n",
       "1  ('TACNA', 'CANDARAVE', 'CANDARAVE', 230201)  2015    1   \n",
       "2  ('TACNA', 'CANDARAVE', 'CANDARAVE', 230201)  2015    1   \n",
       "3  ('TACNA', 'CANDARAVE', 'CANDARAVE', 230201)  2015    1   \n",
       "4  ('TACNA', 'CANDARAVE', 'CANDARAVE', 230201)  2015    1   \n",
       "\n",
       "            RED_ESTACION                   COORDENADA  \n",
       "0  ('RBON', 'CANDARAVE')  (-17.268, -70.2541, 3410.0)  \n",
       "1  ('RBON', 'CANDARAVE')  (-17.268, -70.2541, 3410.0)  \n",
       "2  ('RBON', 'CANDARAVE')  (-17.268, -70.2541, 3410.0)  \n",
       "3  ('RBON', 'CANDARAVE')  (-17.268, -70.2541, 3410.0)  \n",
       "4  ('RBON', 'CANDARAVE')  (-17.268, -70.2541, 3410.0)  "
      ]
     },
     "execution_count": 72,
     "metadata": {},
     "output_type": "execute_result"
    }
   ],
   "source": [
    "dataset_clean.head()"
   ]
  },
  {
   "cell_type": "markdown",
   "metadata": {},
   "source": [
    "### Agrupando por mes y año"
   ]
  },
  {
   "cell_type": "code",
   "execution_count": null,
   "metadata": {},
   "outputs": [
    {
     "name": "stdout",
     "output_type": "stream",
     "text": [
      "AÑO   MES  TEMP  HR     PP \n",
      "2015  1    5.1   100.0  0.0    19\n",
      "           9.5   100.0  0.0    19\n",
      "           5.5   100.0  0.0    14\n",
      "           0.1   100.0  0.0    11\n",
      "           4.9   100.0  0.0    11\n",
      "                               ..\n",
      "2024  6    23.4  25.0   0.0     1\n",
      "           23.5  23.0   0.0     1\n",
      "           23.6  20.0   0.0     1\n",
      "           24.2  23.0   0.0     1\n",
      "           24.4  22.0   0.0     1\n",
      "Name: count, Length: 317063, dtype: int64\n",
      "AÑO   TEMP  HR     PP \n",
      "2015  8.8   99.0   0.0    145\n",
      "      12.9  100.0  0.0    130\n",
      "      15.6  100.0  0.0    116\n",
      "      7.9   34.0   0.0    113\n",
      "            86.0   0.0    110\n",
      "                         ... \n",
      "2024  24.4  19.0   0.0      1\n",
      "            22.0   0.0      1\n",
      "      24.7  49.0   0.0      1\n",
      "      25.0  35.0   0.0      1\n",
      "      25.2  36.0   0.0      1\n",
      "Name: count, Length: 172254, dtype: int64\n"
     ]
    }
   ],
   "source": [
    "df_mensual=dataset_clean.groupby(['AÑO','MES'])[['TEMP','HR','PP']]\n",
    "\n",
    "df_anual=dataset_clean.groupby(['AÑO'])[['TEMP','HR','PP']]"
   ]
  },
  {
   "cell_type": "code",
   "execution_count": 74,
   "metadata": {},
   "outputs": [
    {
     "name": "stdout",
     "output_type": "stream",
     "text": [
      "               TEMP         HR        PP\n",
      "AÑO  MES                                \n",
      "2015 1     9.858415  71.382465  0.119354\n",
      "     2     9.580153  88.720183  0.162171\n",
      "     3     9.891225  88.997283  0.166069\n",
      "     4     9.683611  76.456659  0.034730\n",
      "     5     8.185104  55.468912  0.003076\n",
      "...             ...        ...       ...\n",
      "2024 2    10.733683  86.334207  0.143036\n",
      "     3    10.825416  89.307757  0.148011\n",
      "     4    11.764732  75.432245  0.023489\n",
      "     5    10.034069  55.129440  0.004925\n",
      "     6     8.686342  43.655076  0.012768\n",
      "\n",
      "[114 rows x 3 columns]\n"
     ]
    }
   ],
   "source": [
    "df_mensual_mean = df_mensual.mean()\n",
    "df_anual_mean = df_anual.mean()\n",
    "\n",
    "print(df_mensual_mean)"
   ]
  },
  {
   "cell_type": "markdown",
   "metadata": {},
   "source": [
    "## Índice de Calor (HI)"
   ]
  },
  {
   "cell_type": "markdown",
   "metadata": {},
   "source": [
    "### Conversión de Celsius a Fahrenheit"
   ]
  },
  {
   "cell_type": "code",
   "execution_count": 75,
   "metadata": {},
   "outputs": [
    {
     "name": "stdout",
     "output_type": "stream",
     "text": [
      "TEMP\n",
      "55.94    2774\n",
      "55.58    2770\n",
      "55.22    2770\n",
      "41.90    2743\n",
      "42.44    2714\n",
      "         ... \n",
      "1.94        1\n",
      "76.82       1\n",
      "79.34       1\n",
      "77.90       1\n",
      "77.36       1\n",
      "Name: count, Length: 414, dtype: int64\n",
      "TEMP\n",
      " 13.3    2774\n",
      " 13.1    2770\n",
      " 12.9    2770\n",
      " 5.5     2743\n",
      " 5.8     2714\n",
      "         ... \n",
      "-16.7       1\n",
      " 24.9       1\n",
      " 26.3       1\n",
      " 25.5       1\n",
      " 25.2       1\n",
      "Name: count, Length: 414, dtype: int64\n"
     ]
    }
   ],
   "source": [
    "#convertir TEMP a grados farenheit\n",
    "TEMP_FAH = dataset_clean['TEMP']*9/5 + 32\n",
    "print(TEMP_FAH.value_counts())\n",
    "print(dataset_clean['TEMP'].value_counts())"
   ]
  },
  {
   "cell_type": "markdown",
   "metadata": {},
   "source": [
    "### Definición de la fórmula"
   ]
  },
  {
   "cell_type": "code",
   "execution_count": 76,
   "metadata": {},
   "outputs": [
    {
     "name": "stdout",
     "output_type": "stream",
     "text": [
      "43.568398     1\n",
      "45.481208     1\n",
      "47.704048     1\n",
      "48.095598     1\n",
      "48.318902     2\n",
      "             ..\n",
      "355.727181    1\n",
      "355.969515    1\n",
      "356.063586    1\n",
      "363.512519    1\n",
      "372.227995    1\n",
      "Name: count, Length: 27737, dtype: int64\n"
     ]
    }
   ],
   "source": [
    "#calcular el indice de calor\n",
    "HI= -42.379+2.04901523*TEMP_FAH+10.14333127*dataset_clean['HR']-0.22475541*TEMP_FAH*dataset_clean['HR']-6.83783e-3*TEMP_FAH**2-5.481717e-2*dataset_clean['HR']**2+1.22874e-3*TEMP_FAH**2*dataset_clean['HR']+8.5282e-4*TEMP_FAH*dataset_clean['HR']**2-1.99e-6*TEMP_FAH**2*dataset_clean['HR']**2\n",
    "\n",
    "print(HI.value_counts().sort_index())"
   ]
  },
  {
   "cell_type": "markdown",
   "metadata": {},
   "source": [
    "### Conversión del HI de fahrenheit a celsius"
   ]
  },
  {
   "cell_type": "code",
   "execution_count": 77,
   "metadata": {},
   "outputs": [
    {
     "name": "stdout",
     "output_type": "stream",
     "text": [
      "HI\n",
      "33.318606    773\n",
      "30.438724    759\n",
      "31.492723    749\n",
      "34.455666    725\n",
      "29.753363    698\n",
      "            ... \n",
      "19.934810      1\n",
      "18.837181      1\n",
      "14.884117      1\n",
      "13.688822      1\n",
      "17.419979      1\n",
      "Name: count, Length: 27737, dtype: int64\n"
     ]
    }
   ],
   "source": [
    "#calcular el indice de calor en grados celsius\n",
    "dataset_clean['HI']=(HI-32)*5/9\n",
    "print(dataset_clean['HI'].value_counts())\n"
   ]
  },
  {
   "cell_type": "markdown",
   "metadata": {},
   "source": [
    "### Clasificando el HI"
   ]
  },
  {
   "cell_type": "markdown",
   "metadata": {},
   "source": [
    "* Si los datos de la columna dataset_clean[HI] son mayor o igual 26.6667 y menor que 32.2222 , la variable 'HI_CLASIFICACION' será 'Precaución'.\n",
    "* Si los datos de la columna dataset_clean[HI] son mayor o igual 32.2222 y menor que 39.4444, la variable 'HI_CLASIFICACION' será 'Precaución Extrema'.\n",
    "* Si los datos de la columna dataset_clean[HI] son mayor o igual 39.4444 y menor que 51.6667 , la variable 'HI_CLASIFICACION' será 'Peligro'.\n",
    "* Si los datos de la columna dataset_clean[HI] son mayor o igual 51.6667, la variable 'HI_CLASIFICACION' será 'Peligro Extremo'."
   ]
  },
  {
   "cell_type": "code",
   "execution_count": 78,
   "metadata": {},
   "outputs": [
    {
     "name": "stdout",
     "output_type": "stream",
     "text": [
      "HI_CLASIFICACION\n",
      "(33.31860555939557, Precaución Extrema)    773\n",
      "(30.43872429891563, Precaución)            759\n",
      "(31.49272300569559, Precaución)            749\n",
      "(34.45566591705556, Precaución Extrema)    725\n",
      "(29.753363004995588, Precaución)           698\n",
      "                                          ... \n",
      "(19.934810284231048, Normal)                 1\n",
      "(18.837181042095565, Normal)                 1\n",
      "(14.884117293564486, Normal)                 1\n",
      "(13.688822066915623, Normal)                 1\n",
      "(17.41997881371564, Normal)                  1\n",
      "Name: count, Length: 27737, dtype: int64\n"
     ]
    }
   ],
   "source": [
    "#clasificar el indice de calor\n",
    "HI_CLASIFICACION = np.where(\n",
    "    (dataset_clean['HI'] >= 26.6667) & (dataset_clean['HI'] < 32.2222), 'Precaución',\n",
    "    np.where(\n",
    "        (dataset_clean['HI'] >= 32.2222) & (dataset_clean['HI'] < 39.4444), 'Precaución Extrema',\n",
    "        np.where(\n",
    "            (dataset_clean['HI'] >= 39.4444) & (dataset_clean['HI'] < 51.6667), 'Peligro',\n",
    "            np.where(\n",
    "                dataset_clean['HI'] >= 51.6667, 'Peligro Extremo',\n",
    "                'Normal'  #Índice de calor menor a 26.6667\n",
    "            )\n",
    "        )\n",
    "    )\n",
    ")\n",
    "\n",
    "# tupla HI y HI_CLASIFICACION\n",
    "dataset_clean['HI_CLASIFICACION'] = list(zip(dataset_clean['HI'], HI_CLASIFICACION))\n",
    "print(dataset_clean['HI_CLASIFICACION'].value_counts())\n"
   ]
  },
  {
   "cell_type": "code",
   "execution_count": 79,
   "metadata": {},
   "outputs": [
    {
     "data": {
      "text/plain": [
       "Index(['ID', 'ESTACION', 'FECHA', 'HORA', 'LONGITUD', 'LATITUD', 'ALTITUD',\n",
       "       'TEMP', 'HR', 'PP', 'RED', 'DEPARTAMENTO', 'PROVINCIA', 'DISTRITO',\n",
       "       'UBIGEO', 'UBICACION', 'AÑO', 'MES', 'RED_ESTACION', 'COORDENADA', 'HI',\n",
       "       'HI_CLASIFICACION'],\n",
       "      dtype='object')"
      ]
     },
     "execution_count": 79,
     "metadata": {},
     "output_type": "execute_result"
    }
   ],
   "source": [
    "dataset_clean.columns"
   ]
  },
  {
   "cell_type": "markdown",
   "metadata": {},
   "source": [
    "## Punto de Rocío (TD)"
   ]
  },
  {
   "cell_type": "markdown",
   "metadata": {},
   "source": [
    "### Definición de la fórmula de Magnus"
   ]
  },
  {
   "cell_type": "code",
   "execution_count": 80,
   "metadata": {},
   "outputs": [
    {
     "data": {
      "text/plain": [
       "TD\n",
       "0.0     2311\n",
       "0.5     2189\n",
       "1.0     2169\n",
       "2.0     2112\n",
       "2.5     2098\n",
       "        ... \n",
       "17.2       1\n",
       "19.2       1\n",
       "19.4       1\n",
       "17.6       1\n",
       "18.2       1\n",
       "Name: count, Length: 1428, dtype: int64"
      ]
     },
     "execution_count": 80,
     "metadata": {},
     "output_type": "execute_result"
    }
   ],
   "source": [
    "dataset_clean['TD']=dataset_clean['TEMP']-((100-dataset_clean['HR'])/5)\n",
    "\n",
    "dataset_clean['TD'].value_counts()"
   ]
  },
  {
   "cell_type": "markdown",
   "metadata": {},
   "source": [
    "### Clasificando el TD"
   ]
  },
  {
   "cell_type": "markdown",
   "metadata": {},
   "source": [
    "#### Por condición"
   ]
  },
  {
   "cell_type": "markdown",
   "metadata": {},
   "source": [
    "* Si dataset_clean['TEMP] es menor o igual que TD entonces la condición es Condensacion\n",
    "* Si dataset_clean['TEMP] es mayor que TD entonces la condición es No Condensacion"
   ]
  },
  {
   "cell_type": "code",
   "execution_count": 81,
   "metadata": {},
   "outputs": [
    {
     "name": "stdout",
     "output_type": "stream",
     "text": [
      "TD_CONDICION\n",
      "(-28.0, No Condensacion)                 1\n",
      "(-27.1, No Condensacion)                 1\n",
      "(-27.0, No Condensacion)                 1\n",
      "(-26.9, No Condensacion)                 2\n",
      "(-26.8, No Condensacion)                 1\n",
      "                                        ..\n",
      "(18.700000000000003, No Condensacion)    1\n",
      "(19.2, No Condensacion)                  1\n",
      "(19.3, No Condensacion)                  1\n",
      "(19.400000000000002, No Condensacion)    1\n",
      "(19.900000000000002, No Condensacion)    1\n",
      "Name: count, Length: 1713, dtype: int64\n"
     ]
    }
   ],
   "source": [
    "TD_CONDICION = np.where(\n",
    "    dataset_clean['TEMP'] <= dataset_clean['TD'], 'Condensacion',\n",
    "    'No Condensacion'\n",
    ")\n",
    "\n",
    "# tupla TD y TD_CONDICION\n",
    "dataset_clean['TD_CONDICION'] = list(zip(dataset_clean['TD'], TD_CONDICION))\n",
    "print(dataset_clean['TD_CONDICION'].value_counts().sort_index())"
   ]
  },
  {
   "cell_type": "markdown",
   "metadata": {},
   "source": [
    "#### Por percepción (cómo se siente)"
   ]
  },
  {
   "cell_type": "markdown",
   "metadata": {},
   "source": [
    "* Si los datos de la columna dataset_clean[TD] son menor que 10, la variable 'TD_PERCEPCION' será 'Extremadamente cómodo'.\n",
    "* Si los datos de la columna dataset_clean[TD] son mayor o igual 10 y menor que 12.7778 , la variable 'TD_PERCEPCION' será 'Seco y muy confortable'.\n",
    "* Si los datos de la columna dataset_clean[TD] son mayor o igual 12.7778 y menor que 15.5556 , la variable 'TD_PERCEPCION' será 'Confortable'.\n",
    "* Si los datos de la columna dataset_clean[TD] son mayor o igual 15.5556 y menor que 18.3333 , la variable 'TD_PERCEPCION' será 'Perceptible, pero aceptable para la mayoría'.\n",
    "* Si los datos de la columna dataset_clean[TD] son mayor o igual 18.3333 y menor que 21.1111 , la variable 'TD_PERCEPCION' será 'Húmedo y algo incómodo'.\n",
    "* Si los datos de la columna dataset_clean[TD] son mayor o igual 21.1111 y menor que 23.8889 , la variable 'TD_PERCEPCION' será 'Muy húmedo e incómodo'.\n",
    "* Si los datos de la columna dataset_clean[TD] son mayor o igual 23.8889, la variable 'TD_PERCEPCION' será 'Opresivo'."
   ]
  },
  {
   "cell_type": "code",
   "execution_count": 82,
   "metadata": {},
   "outputs": [
    {
     "name": "stdout",
     "output_type": "stream",
     "text": [
      "TD_PERCEPCION\n",
      "(0.0, Extremadamente cómodo)                                         2311\n",
      "(0.5, Extremadamente cómodo)                                         2189\n",
      "(1.0, Extremadamente cómodo)                                         2169\n",
      "(2.0, Extremadamente cómodo)                                         2112\n",
      "(2.5, Extremadamente cómodo)                                         2098\n",
      "                                                                     ... \n",
      "(17.200000000000003, Perceptible, pero aceptable para la mayoría)       1\n",
      "(19.2, Húmedo y algo incómodo)                                          1\n",
      "(19.400000000000002, Húmedo y algo incómodo)                            1\n",
      "(17.599999999999998, Perceptible, pero aceptable para la mayoría)       1\n",
      "(18.200000000000003, Perceptible, pero aceptable para la mayoría)       1\n",
      "Name: count, Length: 1428, dtype: int64\n"
     ]
    }
   ],
   "source": [
    "#clasificar el punto de rocio\n",
    "TD_PERCEPCION = np.where(\n",
    "    dataset_clean['TD'] < 10, 'Extremadamente cómodo',\n",
    "    np.where(\n",
    "        (dataset_clean['TD'] >= 10) & (dataset_clean['TD'] < 12.7778), 'Seco y muy confortable',\n",
    "        np.where(\n",
    "            (dataset_clean['TD'] >= 12.7778) & (dataset_clean['TD'] < 15.555\n",
    "            ), 'Cómodo',\n",
    "            np.where(\n",
    "                (dataset_clean['TD'] >= 15.5556) & (dataset_clean['TD'] < 18.3333),\n",
    "                'Perceptible, pero aceptable para la mayoría',\n",
    "                np.where(\n",
    "                    (dataset_clean['TD'] >= 18.3333) & (dataset_clean['TD'] < 21.1111),\n",
    "                    'Húmedo y algo incómodo',\n",
    "                    np.where(\n",
    "                        (dataset_clean['TD'] >= 21.1111) & (dataset_clean['TD'] < 23.8889),\n",
    "                        'Muy húmedo e incómodo',\n",
    "                        np.where(\n",
    "                            dataset_clean['TD'] >= 23.8889, 'Opresivo', 'Extremadamente seco y frío'\n",
    "                        )\n",
    "                    )\n",
    "                )\n",
    "            )\n",
    "        )\n",
    "    )\n",
    ")\n",
    "\n",
    "# tupla TD y TD_PERCEPCION\n",
    "dataset_clean['TD_PERCEPCION'] = list(zip(dataset_clean['TD'], TD_PERCEPCION))\n",
    "print(dataset_clean['TD_PERCEPCION'].value_counts())"
   ]
  },
  {
   "cell_type": "code",
   "execution_count": 83,
   "metadata": {},
   "outputs": [
    {
     "data": {
      "text/plain": [
       "Index(['ID', 'ESTACION', 'FECHA', 'HORA', 'LONGITUD', 'LATITUD', 'ALTITUD',\n",
       "       'TEMP', 'HR', 'PP', 'RED', 'DEPARTAMENTO', 'PROVINCIA', 'DISTRITO',\n",
       "       'UBIGEO', 'UBICACION', 'AÑO', 'MES', 'RED_ESTACION', 'COORDENADA', 'HI',\n",
       "       'HI_CLASIFICACION', 'TD', 'TD_CONDICION', 'TD_PERCEPCION'],\n",
       "      dtype='object')"
      ]
     },
     "execution_count": 83,
     "metadata": {},
     "output_type": "execute_result"
    }
   ],
   "source": [
    "dataset_clean.columns"
   ]
  },
  {
   "cell_type": "markdown",
   "metadata": {},
   "source": [
    "## Índice de Aridez (I)"
   ]
  },
  {
   "cell_type": "markdown",
   "metadata": {},
   "source": [
    "#### Índice de Gussen"
   ]
  },
  {
   "cell_type": "code",
   "execution_count": 84,
   "metadata": {},
   "outputs": [
    {
     "name": "stdout",
     "output_type": "stream",
     "text": [
      "          I_GUSSEN\n",
      "AÑO  MES          \n",
      "2015 1    0.012107\n",
      "     2    0.016928\n",
      "     3    0.016790\n",
      "     4    0.003586\n",
      "     5    0.000376\n",
      "     6    0.000052\n",
      "     7    0.000385\n",
      "     8    0.001532\n",
      "     9    0.000860\n",
      "     10   0.001263\n",
      "     11   0.001347\n",
      "     12   0.002801\n",
      "2016 1    0.001157\n",
      "     2    0.010075\n",
      "     3    0.006274\n",
      "     4    0.002871\n",
      "     5    0.000167\n",
      "     6    0.000464\n",
      "     7    0.000267\n",
      "     8    0.000130\n"
     ]
    }
   ],
   "source": [
    "df_mensual_mean['I_GUSSEN'] = df_mensual_mean['PP'] / df_mensual_mean['TEMP']\n",
    "\n",
    "print(df_mensual_mean[['I_GUSSEN']].head(20))"
   ]
  },
  {
   "cell_type": "markdown",
   "metadata": {},
   "source": [
    "#### Índice de Martonne"
   ]
  },
  {
   "cell_type": "code",
   "execution_count": 85,
   "metadata": {},
   "outputs": [
    {
     "name": "stdout",
     "output_type": "stream",
     "text": [
      "      I_MARTONNE\n",
      "AÑO             \n",
      "2015    0.002614\n",
      "2016    0.001121\n",
      "2017    0.003015\n",
      "2018    0.001845\n",
      "2019    0.002538\n",
      "2020    0.002642\n",
      "2021    0.002049\n",
      "2022    0.001847\n",
      "2023    0.002300\n",
      "2024    0.003721\n"
     ]
    }
   ],
   "source": [
    "df_anual_mean['I_MARTONNE'] = df_anual_mean['PP'] / (df_anual_mean['TEMP'] + 10)\n",
    "\n",
    "print(df_anual_mean[['I_MARTONNE']].head(20))"
   ]
  },
  {
   "cell_type": "markdown",
   "metadata": {},
   "source": [
    "## Precipitación acumulada"
   ]
  },
  {
   "cell_type": "markdown",
   "metadata": {},
   "source": [
    "### Diaria"
   ]
  },
  {
   "cell_type": "code",
   "execution_count": 107,
   "metadata": {},
   "outputs": [
    {
     "name": "stdout",
     "output_type": "stream",
     "text": [
      "FECHA\n",
      "2015-01-01     0.1\n",
      "2015-01-02    23.1\n",
      "2015-01-03    12.6\n",
      "2015-01-04    22.2\n",
      "2015-01-05    17.5\n",
      "2015-01-06    12.5\n",
      "2015-01-07     8.6\n",
      "2015-01-08    10.2\n",
      "2015-01-09     2.4\n",
      "2015-01-10     2.7\n",
      "2015-01-11     1.6\n",
      "2015-01-12     0.0\n",
      "2015-01-13     2.3\n",
      "2015-01-14     0.4\n",
      "2015-01-15     0.0\n",
      "2015-01-16     0.0\n",
      "2015-01-17     1.9\n",
      "2015-01-18     0.1\n",
      "2015-01-19     0.2\n",
      "2015-01-20    16.9\n",
      "Name: PP, dtype: float64\n"
     ]
    }
   ],
   "source": [
    "PP_ACUM_DIARIA = dataset_clean.groupby(dataset_clean['FECHA'])['PP'].sum()\n",
    "print(PP_ACUM_DIARIA.head(20))"
   ]
  },
  {
   "cell_type": "code",
   "execution_count": null,
   "metadata": {},
   "outputs": [],
   "source": [
    "PP_ACUM_MENSUAL = dataset_clean.groupby(['AÑO', 'MES'])['PP'].sum()"
   ]
  },
  {
   "cell_type": "code",
   "execution_count": 95,
   "metadata": {},
   "outputs": [
    {
     "name": "stdout",
     "output_type": "stream",
     "text": [
      "0             0.0\n",
      "1             0.0\n",
      "2             0.0\n",
      "3             0.0\n",
      "4             0.0\n",
      "           ...   \n",
      "400998    17888.2\n",
      "400999    17888.2\n",
      "401000    17888.2\n",
      "401001    17888.2\n",
      "401002    17888.2\n",
      "Name: PP, Length: 401003, dtype: float64\n"
     ]
    }
   ],
   "source": [
    "# de la columna df_mensual_mean['PP'], calcular la precipitación acumulada por mes\n",
    "#PP_ACUM = dataset_clean['PP'].cumsum()\n",
    "#print(PP_ACUM.sort_index())\n"
   ]
  },
  {
   "cell_type": "markdown",
   "metadata": {},
   "source": [
    "* Evapotranspiración\n",
    "* Precipitación acumulada (mensual y anual)\n"
   ]
  }
 ],
 "metadata": {
  "kernelspec": {
   "display_name": "VMEAPERU",
   "language": "python",
   "name": "python3"
  },
  "language_info": {
   "codemirror_mode": {
    "name": "ipython",
    "version": 3
   },
   "file_extension": ".py",
   "mimetype": "text/x-python",
   "name": "python",
   "nbconvert_exporter": "python",
   "pygments_lexer": "ipython3",
   "version": "3.12.7"
  }
 },
 "nbformat": 4,
 "nbformat_minor": 2
}
